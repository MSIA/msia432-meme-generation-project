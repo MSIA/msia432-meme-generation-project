{
 "cells": [
  {
   "cell_type": "markdown",
   "id": "insured-married",
   "metadata": {},
   "source": [
    "The implementations comes from this [repo](https://github.com/johnlinp/meme-ocr). I install required packages with the following commands in Mac:\n",
    "+ brew install tesseract\n",
    "+ pip install pytesseract\n",
    "+ pip install opencv-python"
   ]
  },
  {
   "cell_type": "code",
   "execution_count": 1,
   "id": "medieval-criterion",
   "metadata": {},
   "outputs": [],
   "source": [
    "import os\n",
    "from memeocr import MemeOCR"
   ]
  },
  {
   "cell_type": "code",
   "execution_count": 2,
   "id": "iraqi-metro",
   "metadata": {},
   "outputs": [
    {
     "data": {
      "text/plain": [
       "['spider_gone.jpeg', 'no_plan.jpeg', 'work_hours.jpeg']"
      ]
     },
     "execution_count": 2,
     "metadata": {},
     "output_type": "execute_result"
    }
   ],
   "source": [
    "img_name_list = os.listdir('test_image')\n",
    "img_name_list"
   ]
  },
  {
   "cell_type": "code",
   "execution_count": 3,
   "id": "heard-motivation",
   "metadata": {},
   "outputs": [],
   "source": [
    "ocr = MemeOCR()"
   ]
  },
  {
   "cell_type": "code",
   "execution_count": 4,
   "id": "middle-documentary",
   "metadata": {},
   "outputs": [
    {
     "name": "stdout",
     "output_type": "stream",
     "text": [
      "['THERE WAS A SPIDER', \"IT'S GONE NOW \"]\n",
      "[\"THAT'S .\", 'THERE IS NO PLAN ']\n",
      "['WHEN YOU THINK YOUBEEN WORKING FOR 4 HOURS:', 'ANB IT’S ONLY BEEN 17 MINUTES. ']\n"
     ]
    }
   ],
   "source": [
    "for name in img_name_list:\n",
    "    txt = ocr.recognize(f'test_image/{name}')\n",
    "    print(txt)"
   ]
  }
 ],
 "metadata": {
  "kernelspec": {
   "display_name": "Python 3",
   "language": "python",
   "name": "python3"
  },
  "language_info": {
   "codemirror_mode": {
    "name": "ipython",
    "version": 3
   },
   "file_extension": ".py",
   "mimetype": "text/x-python",
   "name": "python",
   "nbconvert_exporter": "python",
   "pygments_lexer": "ipython3",
   "version": "3.7.9"
  }
 },
 "nbformat": 4,
 "nbformat_minor": 5
}
